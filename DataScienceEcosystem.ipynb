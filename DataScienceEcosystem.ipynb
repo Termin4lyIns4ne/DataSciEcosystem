{
 "cells": [
  {
   "cell_type": "code",
   "execution_count": null,
   "id": "3b5703e3-4859-4beb-94e4-6cb29e20113e",
   "metadata": {},
   "outputs": [],
   "source": [
    "##Data Science Tools and Ecosystem"
   ]
  },
  {
   "cell_type": "code",
   "execution_count": null,
   "id": "5cce9ae0-ca55-4cef-9002-d5248f4b5e24",
   "metadata": {},
   "outputs": [],
   "source": [
    "##In this notebook, Data Science Tools and Ecosystem are summarized."
   ]
  },
  {
   "cell_type": "code",
   "execution_count": null,
   "id": "59a9e019-3a19-4be1-9f50-79332979458d",
   "metadata": {},
   "outputs": [],
   "source": [
    "##Some of the popular languages that Data Scientists use are:\n",
    "\n",
    "1.)python\n",
    "2.)C++\n",
    "3.)java"
   ]
  },
  {
   "cell_type": "code",
   "execution_count": null,
   "id": "84e2ec6a-69a6-452e-8c62-a2a02a505971",
   "metadata": {},
   "outputs": [],
   "source": [
    "##Some of the commonly used libraries used by Data Scientists include:\n",
    "\n",
    "1.)pandas\n",
    "2.)scikit Learn\n",
    "3.)numPy"
   ]
  },
  {
   "cell_type": "code",
   "execution_count": null,
   "id": "cdb8dee4-e0ec-4128-8389-a9bf4d5084df",
   "metadata": {
    "tags": []
   },
   "outputs": [],
   "source": [
    "##Tables\n",
    "\n",
    "| Data Science Tools|\n",
    "| --- | --- | --- |\n",
    "BigML\n",
    "Apache Spark\n",
    "SQL\n",
    "\n"
   ]
  },
  {
   "cell_type": "code",
   "execution_count": 3,
   "id": "a022d235-463d-4cef-9660-0005a3f63705",
   "metadata": {
    "tags": []
   },
   "outputs": [],
   "source": [
    "##Below are a few examples of evaluating arithmetic expressions in Python"
   ]
  },
  {
   "cell_type": "code",
   "execution_count": 4,
   "id": "31d113c9-ffdd-4202-a74d-fe4ffeac356a",
   "metadata": {
    "tags": []
   },
   "outputs": [
    {
     "data": {
      "text/plain": [
       "17"
      ]
     },
     "execution_count": 4,
     "metadata": {},
     "output_type": "execute_result"
    }
   ],
   "source": [
    "(3*4)+5"
   ]
  },
  {
   "cell_type": "code",
   "execution_count": 5,
   "id": "5ca0db77-c23c-4ae0-8af4-1a6f90fc442c",
   "metadata": {},
   "outputs": [
    {
     "data": {
      "text/plain": [
       "3.3333333333333335"
      ]
     },
     "execution_count": 5,
     "metadata": {},
     "output_type": "execute_result"
    }
   ],
   "source": [
    "##This will convert 200 minutes to hours by diving by 60.\n",
    "200/60"
   ]
  },
  {
   "cell_type": "code",
   "execution_count": null,
   "id": "8a1b2d80-3531-41be-a064-3233221389b4",
   "metadata": {},
   "outputs": [],
   "source": [
    "<b> Objectives</b>\n",
    "\n",
    "*List Languages Covered\n",
    "*Create a Table \n",
    "*Give mathamatical expression examples"
   ]
  },
  {
   "cell_type": "markdown",
   "id": "cb8dfed9-9980-47d2-b6fb-e7f9cfc78a1b",
   "metadata": {},
   "source": [
    "Author\n",
    "CM"
   ]
  },
  {
   "cell_type": "code",
   "execution_count": null,
   "id": "31297c54-407c-4782-924b-ca343fd0c97c",
   "metadata": {},
   "outputs": [],
   "source": []
  }
 ],
 "metadata": {
  "kernelspec": {
   "display_name": "Python",
   "language": "python",
   "name": "conda-env-python-py"
  },
  "language_info": {
   "codemirror_mode": {
    "name": "ipython",
    "version": 3
   },
   "file_extension": ".py",
   "mimetype": "text/x-python",
   "name": "python",
   "nbconvert_exporter": "python",
   "pygments_lexer": "ipython3",
   "version": "3.7.12"
  }
 },
 "nbformat": 4,
 "nbformat_minor": 5
}
